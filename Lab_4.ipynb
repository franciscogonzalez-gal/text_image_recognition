{
  "nbformat": 4,
  "nbformat_minor": 0,
  "metadata": {
    "colab": {
      "provenance": [],
      "authorship_tag": "ABX9TyP0aFE/6Kqxs3qsIaJ3lFRg",
      "include_colab_link": true
    },
    "kernelspec": {
      "name": "python3",
      "display_name": "Python 3"
    },
    "language_info": {
      "name": "python"
    }
  },
  "cells": [
    {
      "cell_type": "markdown",
      "metadata": {
        "id": "view-in-github",
        "colab_type": "text"
      },
      "source": [
        "<a href=\"https://colab.research.google.com/github/franciscogonzalez-gal/text_image_recognition/blob/main/Lab_4.ipynb\" target=\"_parent\"><img src=\"https://colab.research.google.com/assets/colab-badge.svg\" alt=\"Open In Colab\"/></a>"
      ]
    },
    {
      "cell_type": "code",
      "execution_count": 9,
      "metadata": {
        "id": "KDH_UWc-rb_l"
      },
      "outputs": [],
      "source": [
        "# ============================================\n",
        "# Laboratorio #4 — Text Mining & Image Recognition\n",
        "# Autor: Francisco Gonzalez\n",
        "# Carnet: 24002914\n",
        "# ============================================\n",
        "\n",
        "import re\n",
        "import os\n",
        "import glob"
      ]
    },
    {
      "cell_type": "code",
      "source": [
        "# ============================================\n",
        "# Montar Google Drive (ejecuta esta celda en Colab)\n",
        "# ============================================\n",
        "from google.colab import drive\n",
        "drive.mount('/content/drive')\n",
        "\n",
        "# Ajusta esta ruta si tu carpeta está en otro lugar:\n",
        "DATA_DIR = '/content/drive/MyDrive/datos/lab4'"
      ],
      "metadata": {
        "colab": {
          "base_uri": "https://localhost:8080/"
        },
        "id": "pPvCBNCuxJTq",
        "outputId": "9ba3804d-5fa4-45e0-e404-f2213ae47ce2"
      },
      "execution_count": 10,
      "outputs": [
        {
          "output_type": "stream",
          "name": "stdout",
          "text": [
            "Drive already mounted at /content/drive; to attempt to forcibly remount, call drive.mount(\"/content/drive\", force_remount=True).\n"
          ]
        }
      ]
    },
    {
      "cell_type": "code",
      "source": [
        "# ============================================\n",
        "# PROBLEMA 1: Expresiones regulares\n",
        "# (Se imprimen como cadenas listas para entregar)\n",
        "# ============================================\n",
        "\n",
        "# 1) Email (general)\n",
        "regex_email = r'^[A-Za-z0-9._%+-]+@[A-Za-z0-9.-]+\\.[A-Za-z]{2,}$'\n",
        "\n",
        "# 2) URL con protocolo http/https, \"www.\" y TLD restringido a .com | .org | .edu\n",
        "#    Dominio: inicia con letra, luego letras/dígitos/guiones.\n",
        "regex_url = r'^(?:https?://)www\\.[A-Za-z][A-Za-z0-9-]*(?:\\.[A-Za-z0-9-]+)*\\.(?:com|org|edu)$'\n",
        "\n",
        "# 3) MAC Address (6 bloques hexadecimales en MAYÚSCULAS o minúsculas separados por espacio)\n",
        "regex_mac = r'^(?:[0-9A-Fa-f]{2}\\s){5}[0-9A-Fa-f]{2}$'\n",
        "\n",
        "# 4) IPv4 (0–255 por octeto)\n",
        "regex_ipv4 = (\n",
        "    r'^(?:25[0-5]|2[0-4]\\d|1?\\d?\\d)'\n",
        "    r'(?:\\.(?:25[0-5]|2[0-4]\\d|1?\\d?\\d)){3}$'\n",
        ")\n",
        "\n",
        "# 5) Fecha d-m-a con separador / . o -, día 1–31, mes 1–12,\n",
        "#    año 2000–2019 o bien 00–19 (dos dígitos)\n",
        "regex_fecha_dmy = (\n",
        "    r'^(?:[1-9]|[12]\\d|3[01])'              # día\n",
        "    r'[\\/\\-.]'                               # separador\n",
        "    r'(?:[1-9]|1[0-2])'                      # mes\n",
        "    r'[\\/\\-.]'                               # separador\n",
        "    r'(?:(?:200\\d|201\\d)|(?:0\\d|1\\d))$'      # año: 2000–2019 o 00–19\n",
        ")\n",
        "\n",
        "# Imprimir (para entregar las \"strings\" de las regex)\n",
        "print(\"Regex email:\", regex_email)\n",
        "print(\"Regex URL  :\", regex_url)\n",
        "print(\"Regex MAC  :\", regex_mac)\n",
        "print(\"Regex IPv4 :\", regex_ipv4)\n",
        "print(\"Regex fecha:\", regex_fecha_dmy)"
      ],
      "metadata": {
        "colab": {
          "base_uri": "https://localhost:8080/"
        },
        "id": "HyIRfJBNtlhs",
        "outputId": "68c099e3-dbe5-4a3f-bd2a-a0227c883147"
      },
      "execution_count": 11,
      "outputs": [
        {
          "output_type": "stream",
          "name": "stdout",
          "text": [
            "Regex email: ^[A-Za-z0-9._%+-]+@[A-Za-z0-9.-]+\\.[A-Za-z]{2,}$\n",
            "Regex URL  : ^(?:https?://)www\\.[A-Za-z][A-Za-z0-9-]*(?:\\.[A-Za-z0-9-]+)*\\.(?:com|org|edu)$\n",
            "Regex MAC  : ^(?:[0-9A-Fa-f]{2}\\s){5}[0-9A-Fa-f]{2}$\n",
            "Regex IPv4 : ^(?:25[0-5]|2[0-4]\\d|1?\\d?\\d)(?:\\.(?:25[0-5]|2[0-4]\\d|1?\\d?\\d)){3}$\n",
            "Regex fecha: ^(?:[1-9]|[12]\\d|3[01])[\\/\\-.](?:[1-9]|1[0-2])[\\/\\-.](?:(?:200\\d|201\\d)|(?:0\\d|1\\d))$\n"
          ]
        }
      ]
    },
    {
      "cell_type": "code",
      "source": [
        "#Pequeña validación rápida con los ejemplos del enunciado\n",
        "ejemplos_email = [\n",
        "    \"Guate.360-porelmundo@miguate.com\",\n",
        "    \"Miercoles3@hotmail.com\",\n",
        "    \"Progra3.galileo@galileo.edu\",\n",
        "]\n",
        "print(\"\\nValidación rápida de emails:\")\n",
        "for s in ejemplos_email:\n",
        "    print(s, \"->\", bool(re.fullmatch(regex_email, s)))\n",
        "\n",
        "ejemplos_url = [\n",
        "    \"https://www.guate360-porelmundo.com\",  # válido (.com)\n",
        "    \"http://www.a2.net\",                    # inválido por TLD (.net no permitido)\n",
        "    \"https://www.galileo.edu\",              # válido (.edu)\n",
        "    \"http://www.8.org\",                     # inválido: dominio inicia con dígito\n",
        "]\n",
        "print(\"\\nValidación rápida de URLs:\")\n",
        "for s in ejemplos_url:\n",
        "    print(s, \"->\", bool(re.fullmatch(regex_url, s)))\n",
        "\n",
        "ejemplos_mac = [\n",
        "    \"5A 6F AF 8C 9B 1D\",\n",
        "    \"6D 6C 4D 3A EB 3F\",\n",
        "    \"3A 7C FA C8 6D 4J\",  # inválido (J)\n",
        "]\n",
        "print(\"\\nValidación rápida de MACs:\")\n",
        "for s in ejemplos_mac:\n",
        "    print(s, \"->\", bool(re.fullmatch(regex_mac, s)))\n",
        "\n",
        "ejemplos_ipv4 = [\n",
        "    \"192.16.8.1\",\n",
        "    \"234.56.78.90\",\n",
        "    \"1.2.3.4\",\n",
        "    \"192.168.45.345\",  # inválido (>255)\n",
        "]\n",
        "print(\"\\nValidación rápida de IPv4:\")\n",
        "for s in ejemplos_ipv4:\n",
        "    print(s, \"->\", bool(re.fullmatch(regex_ipv4, s)))\n",
        "\n",
        "ejemplos_fecha = [\n",
        "    \"20/1/2019\",\n",
        "    \"12.03.2005\",  # 2005 no está en 2000–2019 -> debería dar False\n",
        "    \"31-11-08\",    # año 08 => 2008 (aceptado por la regex), mes 11, día 31 (no valida por calendario real, pero el enunciado pide validar rangos generales)\n",
        "    \"1-1-2012\",\n",
        "    \"12-12-22\",    # 22 (>19) → False\n",
        "]\n",
        "print(\"\\nValidación rápida de fechas d-m-a (regex):\")\n",
        "for s in ejemplos_fecha:\n",
        "    print(s, \"->\", bool(re.fullmatch(regex_fecha_dmy, s)))"
      ],
      "metadata": {
        "colab": {
          "base_uri": "https://localhost:8080/"
        },
        "id": "GlU6gXIZwspD",
        "outputId": "e863fbae-78f5-4fb7-e80f-f3b3a53f1709"
      },
      "execution_count": 12,
      "outputs": [
        {
          "output_type": "stream",
          "name": "stdout",
          "text": [
            "\n",
            "Validación rápida de emails:\n",
            "Guate.360-porelmundo@miguate.com -> True\n",
            "Miercoles3@hotmail.com -> True\n",
            "Progra3.galileo@galileo.edu -> True\n",
            "\n",
            "Validación rápida de URLs:\n",
            "https://www.guate360-porelmundo.com -> True\n",
            "http://www.a2.net -> False\n",
            "https://www.galileo.edu -> True\n",
            "http://www.8.org -> False\n",
            "\n",
            "Validación rápida de MACs:\n",
            "5A 6F AF 8C 9B 1D -> True\n",
            "6D 6C 4D 3A EB 3F -> True\n",
            "3A 7C FA C8 6D 4J -> False\n",
            "\n",
            "Validación rápida de IPv4:\n",
            "192.16.8.1 -> True\n",
            "234.56.78.90 -> True\n",
            "1.2.3.4 -> True\n",
            "192.168.45.345 -> False\n",
            "\n",
            "Validación rápida de fechas d-m-a (regex):\n",
            "20/1/2019 -> True\n",
            "12.03.2005 -> False\n",
            "31-11-08 -> True\n",
            "1-1-2012 -> True\n",
            "12-12-22 -> False\n"
          ]
        }
      ]
    },
    {
      "cell_type": "code",
      "source": [
        "# ============================================\n",
        "# PROBLEMA 2 (ajustado a archivos D1..D21)\n",
        "# - Lee D*.txt en /MyDrive/datos/lab4\n",
        "# - Extrae fechas dd/mm/aa(aa)\n",
        "# - Calcula promedios de día, mes y año\n",
        "# ============================================\n",
        "\n",
        "\n",
        "# Mapeo de meses en inglés a número (abreviado o completo)\n",
        "MONTHS_EN = {\n",
        "    'jan': 1, 'january': 1,\n",
        "    'feb': 2, 'february': 2,\n",
        "    'mar': 3, 'march': 3,\n",
        "    'apr': 4, 'april': 4,\n",
        "    'may': 5,\n",
        "    'jun': 6, 'june': 6,\n",
        "    'jul': 7, 'july': 7,\n",
        "    'aug': 8, 'august': 8,\n",
        "    'sep': 9, 'sept': 9, 'september': 9,\n",
        "    'oct': 10, 'october': 10,\n",
        "    'nov': 11, 'november': 11,\n",
        "    'dec': 12, 'december': 12,\n",
        "}\n",
        "\n",
        "# Nombres de meses aceptados (abreviado o completo)\n",
        "month_names = (\n",
        "    r'Jan(?:uary)?|Feb(?:ruary)?|Mar(?:ch)?|Apr(?:il)?|May|'\n",
        "    r'Jun(?:e)?|Jul(?:y)?|Aug(?:ust)?|Sep(?:t(?:ember)?)?|'\n",
        "    r'Oct(?:ober)?|Nov(?:ember)?|Dec(?:ember)?'\n",
        ")\n",
        "\n",
        "# Regex para D-M-Y con separador / . o -,\n",
        "#    día: 1–31 con 0 opcional, mes: 1–12 o nombre inglés, año: 2 o 4 dígitos\n",
        "date_pattern = re.compile(\n",
        "    rf'\\b(?P<d>0?[1-9]|[12]\\d|3[01])'\n",
        "    rf'(?P<sep>[\\/\\-.])'\n",
        "    rf'(?P<m>(?:0?[1-9]|1[0-2])|(?:{month_names}))'\n",
        "    rf'(?P=sep)'\n",
        "    rf'(?P<y>\\d{{2}}|\\d{{4}})\\b',\n",
        "    flags=re.IGNORECASE\n",
        ")\n",
        "\n",
        "def normalize_year(y: str, base=2000):\n",
        "    # Convierte año de 2 dígitos a 2000–2099\n",
        "    return base + int(y) if len(y) == 2 else int(y)\n",
        "\n",
        "def month_to_number(m: str):\n",
        "    # Convierte mes numérico o nombre inglés a entero 1–12\n",
        "    if m.isdigit():\n",
        "        return int(m)\n",
        "    return MONTHS_EN[m.lower()]\n",
        "\n",
        "def extract_dates(text: str):\n",
        "    dd, mm, yy = [], [], []\n",
        "    for m in date_pattern.finditer(text):\n",
        "        d = int(m.group('d'))\n",
        "        raw_m = m.group('m')\n",
        "        y = normalize_year(m.group('y'))\n",
        "        try:\n",
        "            mo = month_to_number(raw_m)\n",
        "        except KeyError:\n",
        "            # Nombre de mes no reconocido\n",
        "            continue\n",
        "        # Validación de rango general\n",
        "        if 1 <= d <= 31 and 1 <= mo <= 12:\n",
        "            dd.append(d); mm.append(mo); yy.append(y)\n",
        "    return dd, mm, yy\n",
        "\n",
        "# Buscar archivos D*.txt\n",
        "files = sorted(glob.glob(os.path.join(DATA_DIR, 'D*.txt')))\n",
        "if not files:\n",
        "    print(f\"[AVISO] No se encontraron archivos D*.txt en {DATA_DIR}\")\n",
        "\n",
        "total_d = total_m = total_y = total_n = 0\n",
        "per_file_counts = []\n",
        "\n",
        "for path in files:\n",
        "    try:\n",
        "        with open(path, 'r', encoding='utf-8', errors='ignore') as fh:\n",
        "            txt = fh.read()\n",
        "    except Exception as e:\n",
        "        print(f\"[ERROR] No se pudo leer {os.path.basename(path)}: {e}\")\n",
        "        continue\n",
        "\n",
        "    d_list, m_list, y_list = extract_dates(txt)\n",
        "    n = len(d_list)\n",
        "    per_file_counts.append((os.path.basename(path), n))\n",
        "    total_d += sum(d_list)\n",
        "    total_m += sum(m_list)\n",
        "    total_y += sum(y_list)\n",
        "    total_n += n\n",
        "\n",
        "print(\"Conteo por archivo:\")\n",
        "for name, cnt in per_file_counts:\n",
        "    print(f\" - {name}: {cnt}\")\n",
        "\n",
        "if total_n == 0:\n",
        "    print(\"\\n[AVISO] No se extrajeron fechas.\")\n",
        "else:\n",
        "    avg_day = total_d / total_n\n",
        "    avg_month = total_m / total_n\n",
        "    avg_year = total_y / total_n\n",
        "    print(\"\\n=== Promedios globales ===\")\n",
        "    print(f\"Día  promedio: {avg_day:.6f}\")\n",
        "    print(f\"Mes  promedio: {avg_month:.6f}\")\n",
        "    print(f\"Año promedio: {avg_year:.6f}\")"
      ],
      "metadata": {
        "colab": {
          "base_uri": "https://localhost:8080/"
        },
        "id": "bu3MstW_uB5Z",
        "outputId": "1f6d745d-8849-4a82-d5a9-4e30c5d42c3e"
      },
      "execution_count": 13,
      "outputs": [
        {
          "output_type": "stream",
          "name": "stdout",
          "text": [
            "Conteo por archivo:\n",
            " - D1.txt: 1000\n",
            " - D10.txt: 1000\n",
            " - D11.txt: 1000\n",
            " - D12.txt: 1000\n",
            " - D13.txt: 1000\n",
            " - D14.txt: 1000\n",
            " - D15.txt: 1000\n",
            " - D16.txt: 1000\n",
            " - D17.txt: 1000\n",
            " - D18.txt: 1000\n",
            " - D19.txt: 1000\n",
            " - D2.txt: 1000\n",
            " - D20.txt: 1000\n",
            " - D21.txt: 1000\n",
            " - D3.txt: 1000\n",
            " - D4.txt: 1000\n",
            " - D5.txt: 1000\n",
            " - D6.txt: 1000\n",
            " - D7.txt: 1000\n",
            " - D8.txt: 1000\n",
            " - D9.txt: 1000\n",
            "\n",
            "=== Promedios globales ===\n",
            "Día  promedio: 15.624762\n",
            "Mes  promedio: 6.466476\n",
            "Año promedio: 2016.686905\n"
          ]
        }
      ]
    }
  ]
}